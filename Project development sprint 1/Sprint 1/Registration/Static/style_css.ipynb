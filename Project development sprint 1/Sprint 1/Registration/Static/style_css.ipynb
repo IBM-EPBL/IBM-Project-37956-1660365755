{
  "nbformat": 4,
  "nbformat_minor": 0,
  "metadata": {
    "colab": {
      "provenance": []
    },
    "kernelspec": {
      "name": "python3",
      "display_name": "Python 3"
    },
    "language_info": {
      "name": "python"
    }
  },
  "cells": [
    {
      "cell_type": "code",
      "execution_count": null,
      "metadata": {
        "id": "c2nbsjEXmVCE"
      },
      "outputs": [],
      "source": [
        "\n",
        "*{\n",
        "    box-sizing: border-box;\n",
        "    margin: 0;\n",
        "    padding: 0;\n",
        "    text-decoration: none;\n",
        "    list-style-type: none;\n",
        "}\n",
        "html{\n",
        "    scroll-behavior: smooth;\n",
        "}\n",
        "body{\n",
        "    font-family: \"Poppins\",sans-serif;    \n",
        "}\n",
        ".Nav-bar{\n",
        "    opacity: 1;\n",
        "    position: fixed;   \n",
        "    width: 100%;\n",
        "    height: 60px;\n",
        "    align-items: center;\n",
        "    box-shadow: rgba(0, 0, 0, 0.16) 0px 3px 6px, rgba(0, 0, 0, 0.23) 0px 3px 6px;\n",
        "}\n",
        ".scrolled{\n",
        "    background-color:  rgba(145, 2, 2, 0.824);\n",
        "     box-shadow: rgba(0, 0, 0, 0.16) 0px 3px 6px, rgba(0, 0, 0, 0.23) 0px 3px 6px;\n",
        "}\n",
        ".Nav-bar .nav-container{\n",
        "    display: flex;\n",
        "    flex-wrap: wrap;\n",
        "    justify-content: space-between;\n",
        "    align-items: center;\n",
        "}\n",
        ".Nav-bar .nav-container h3{\n",
        "    margin-left: 20px;\n",
        "    color: #111;\n",
        "    font-size: 32px;\n",
        "    border: none;\n",
        "}\n",
        ".Nav-bar .nav-container .nav-content{\n",
        "    display: block;\n",
        "    padding: 20px 18px;\n",
        "    margin-right: 20px;\n",
        "}\n",
        ".Nav-bar .nav-container .nav-content ul li{\n",
        "    display: inline;\n",
        "    padding-left: 10px;\n",
        "}\n",
        ".Nav-bar .nav-container .nav-content ul li a{\n",
        "    color:aqua;\n",
        "    padding-bottom: 5px;\n",
        "}\n",
        ".Nav-bar .nav-container .nav-content ul li a:active{\n",
        "    border-bottom: 2px solid blue;\n",
        "    color:blue;\n",
        "}\n",
        ".Nav-bar .nav-container .nav-content ul li a:hover{\n",
        "    border-bottom: 2px solid green;\n",
        "    color:green;\n",
        "    text-decoration: none;\n",
        "}\n",
        "\n",
        "\n"
      ]
    }
  ]
}