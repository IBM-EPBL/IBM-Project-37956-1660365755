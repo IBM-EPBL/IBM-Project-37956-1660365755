{
  "nbformat": 4,
  "nbformat_minor": 0,
  "metadata": {
    "colab": {
      "provenance": []
    },
    "kernelspec": {
      "name": "python3",
      "display_name": "Python 3"
    },
    "language_info": {
      "name": "python"
    }
  },
  "cells": [
    {
      "cell_type": "code",
      "execution_count": null,
      "metadata": {
        "id": "YSa9sRWroPy-"
      },
      "outputs": [],
      "source": [
        "$(document).ready(function(){\n",
        "    $(\"#testimonial-slider\").owlCarousel({\n",
        "        items:2,\n",
        "        itemsDesktop:[800,2],\n",
        "        itemsDesktopSmall:[789,2],\n",
        "        itemsTablet:[768,2],\n",
        "        itemsMobile:[650,1],\n",
        "        pagination:false,\n",
        "        navigation:true,\n",
        "        navigationText:[\"\",\"\"],\n",
        "        autoPlay:true\n",
        "    });\n",
        "});\n",
        "\n",
        "AOS.init();\n"
      ]
    }
  ]
}