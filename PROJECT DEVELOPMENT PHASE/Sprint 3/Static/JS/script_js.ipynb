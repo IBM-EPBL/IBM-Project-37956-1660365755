{
  "nbformat": 4,
  "nbformat_minor": 0,
  "metadata": {
    "colab": {
      "provenance": []
    },
    "kernelspec": {
      "name": "python3",
      "display_name": "Python 3"
    },
    "language_info": {
      "name": "python"
    }
  },
  "cells": [
    {
      "cell_type": "code",
      "execution_count": null,
      "metadata": {
        "id": "m7BGGz9Sodwd"
      },
      "outputs": [],
      "source": [
        "$(document).ready(function(){\n",
        "  $(window).scroll(function () {\n",
        "    $('.navbar').toggleClass('scrolled',$(this).scrollTop()>50);\n",
        "});\n",
        "});\n"
      ]
    },
    {
      "cell_type": "code",
      "source": [],
      "metadata": {
        "id": "XZteOxX_omJB"
      },
      "execution_count": null,
      "outputs": []
    }
  ]
}