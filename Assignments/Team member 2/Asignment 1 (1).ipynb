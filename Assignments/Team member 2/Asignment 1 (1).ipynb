{
 "cells": [
  {
   "cell_type": "markdown",
   "id": "bc41279e",
   "metadata": {},
   "source": [
    "### 1. Split this string"
   ]
  },
  {
   "cell_type": "code",
   "execution_count": 1,
   "id": "5350a085",
   "metadata": {},
   "outputs": [],
   "source": [
    "s=\"Hi there Same!\""
   ]
  },
  {
   "cell_type": "code",
   "execution_count": 2,
   "id": "1b5c9e29",
   "metadata": {},
   "outputs": [
    {
     "name": "stdout",
     "output_type": "stream",
     "text": [
      "['Hi', 'there', 'Same!']\n"
     ]
    }
   ],
   "source": [
    "print(s.split())"
   ]
  },
  {
   "cell_type": "markdown",
   "id": "eb4a4e3d",
   "metadata": {},
   "source": [
    "### 2.Use.format()to print following string"
   ]
  },
  {
   "cell_type": "code",
   "execution_count": 3,
   "id": "d1a817c8",
   "metadata": {},
   "outputs": [],
   "source": [
    "Output:the diameter of is Earth is 12742 Kilometers."
   ]
  },
  {
   "cell_type": "code",
   "execution_count": 9,
   "id": "1b235a05",
   "metadata": {},
   "outputs": [],
   "source": [
    "import numpy as np\n",
    "import string"
   ]
  },
  {
   "cell_type": "code",
   "execution_count": 11,
   "id": "6a423d56",
   "metadata": {},
   "outputs": [],
   "source": [
    "plant=\"Earth\""
   ]
  },
  {
   "cell_type": "code",
   "execution_count": 12,
   "id": "21ab33da",
   "metadata": {},
   "outputs": [],
   "source": [
    "Kilometer=\"12742\""
   ]
  },
  {
   "cell_type": "code",
   "execution_count": 13,
   "id": "18aa85f2",
   "metadata": {},
   "outputs": [
    {
     "name": "stdout",
     "output_type": "stream",
     "text": [
      "The diameter of the Earth is 12742 Kilometer:\n"
     ]
    }
   ],
   "source": [
    "print(\"The diameter of the {} is {} Kilometer:\".format(plant,Kilometer))"
   ]
  },
  {
   "cell_type": "markdown",
   "id": "e125d4dd",
   "metadata": {},
   "source": [
    "### 3.Next dictonary grap the word \"hello\""
   ]
  },
  {
   "cell_type": "code",
   "execution_count": 14,
   "id": "47ca425d",
   "metadata": {},
   "outputs": [],
   "source": [
    "d = {'k1':[1,2,3,{'tricky':['oh','man','inception',{'target':[1,2,3,'hello']}]}]}"
   ]
  },
  {
   "cell_type": "code",
   "execution_count": 15,
   "id": "cdca76b6",
   "metadata": {},
   "outputs": [
    {
     "name": "stdout",
     "output_type": "stream",
     "text": [
      "hello\n"
     ]
    }
   ],
   "source": [
    "print(d['k1'][3]['tricky'][3]['target'][3])"
   ]
  },
  {
   "cell_type": "markdown",
   "id": "da354209",
   "metadata": {},
   "source": [
    "### 4.create array of 10 zeroes\n"
   ]
  },
  {
   "cell_type": "code",
   "execution_count": 16,
   "id": "caff4bec",
   "metadata": {},
   "outputs": [],
   "source": [
    "import numpy as np"
   ]
  },
  {
   "cell_type": "code",
   "execution_count": 17,
   "id": "b41769d9",
   "metadata": {},
   "outputs": [],
   "source": [
    "var=np.zeros(10)"
   ]
  },
  {
   "cell_type": "code",
   "execution_count": 18,
   "id": "9e25d643",
   "metadata": {},
   "outputs": [
    {
     "data": {
      "text/plain": [
       "array([0., 0., 0., 0., 0., 0., 0., 0., 0., 0.])"
      ]
     },
     "execution_count": 18,
     "metadata": {},
     "output_type": "execute_result"
    }
   ],
   "source": [
    "var"
   ]
  },
  {
   "cell_type": "markdown",
   "id": "9d3a995d",
   "metadata": {},
   "source": [
    "### 4.1 create array of 10 fives"
   ]
  },
  {
   "cell_type": "code",
   "execution_count": 21,
   "id": "f972253d",
   "metadata": {},
   "outputs": [],
   "source": [
    "import numpy as np"
   ]
  },
  {
   "cell_type": "code",
   "execution_count": 26,
   "id": "cf423050",
   "metadata": {},
   "outputs": [],
   "source": [
    "var=np.ones(10)*5"
   ]
  },
  {
   "cell_type": "code",
   "execution_count": 27,
   "id": "f8ea04e8",
   "metadata": {},
   "outputs": [
    {
     "data": {
      "text/plain": [
       "array([5., 5., 5., 5., 5., 5., 5., 5., 5., 5.])"
      ]
     },
     "execution_count": 27,
     "metadata": {},
     "output_type": "execute_result"
    }
   ],
   "source": [
    "var"
   ]
  },
  {
   "cell_type": "code",
   "execution_count": 24,
   "id": "423be772",
   "metadata": {},
   "outputs": [],
   "source": [
    "array=np.one(10)*5"
   ]
  },
  {
   "cell_type": "code",
   "execution_count": 25,
   "id": "89739632",
   "metadata": {},
   "outputs": [
    {
     "data": {
      "text/plain": [
       "array([5., 5., 5., 5., 5., 5., 5., 5., 5., 5.])"
      ]
     },
     "execution_count": 25,
     "metadata": {},
     "output_type": "execute_result"
    }
   ],
   "source": [
    "array"
   ]
  },
  {
   "cell_type": "markdown",
   "id": "6d90f678",
   "metadata": {},
   "source": [
    "### 5.array of all the even integer from 20 to 35"
   ]
  },
  {
   "cell_type": "code",
   "execution_count": 28,
   "id": "8bb0def1",
   "metadata": {},
   "outputs": [],
   "source": [
    "import numpy as np"
   ]
  },
  {
   "cell_type": "code",
   "execution_count": 29,
   "id": "612216bf",
   "metadata": {},
   "outputs": [],
   "source": [
    "array=np.arange(20,35,2)"
   ]
  },
  {
   "cell_type": "code",
   "execution_count": 30,
   "id": "a0360317",
   "metadata": {},
   "outputs": [
    {
     "name": "stdout",
     "output_type": "stream",
     "text": [
      "array of all the even integer 20 to 35\n"
     ]
    }
   ],
   "source": [
    "print(\"array of all the even integer 20 to 35\")"
   ]
  },
  {
   "cell_type": "code",
   "execution_count": 31,
   "id": "b53679fc",
   "metadata": {},
   "outputs": [
    {
     "name": "stdout",
     "output_type": "stream",
     "text": [
      "[20 22 24 26 28 30 32 34]\n"
     ]
    }
   ],
   "source": [
    "print(array)"
   ]
  },
  {
   "cell_type": "markdown",
   "id": "27ca010d",
   "metadata": {},
   "source": [
    "###  6. 3*3 matrix value ranging from 0 to 8"
   ]
  },
  {
   "cell_type": "code",
   "execution_count": 32,
   "id": "e210e6ce",
   "metadata": {},
   "outputs": [],
   "source": [
    "import numpy as np"
   ]
  },
  {
   "cell_type": "code",
   "execution_count": 43,
   "id": "6faedc4c",
   "metadata": {},
   "outputs": [
    {
     "data": {
      "text/plain": [
       "array([[0, 1, 2],\n",
       "       [3, 4, 5],\n",
       "       [6, 7, 8]])"
      ]
     },
     "execution_count": 43,
     "metadata": {},
     "output_type": "execute_result"
    }
   ],
   "source": [
    "np.arange(0,9).reshape((3,3))"
   ]
  },
  {
   "cell_type": "code",
   "execution_count": 41,
   "id": "6a3026c1",
   "metadata": {},
   "outputs": [
    {
     "data": {
      "text/plain": [
       "array([0, 1, 2, 3, 4, 5, 6, 7, 8])"
      ]
     },
     "execution_count": 41,
     "metadata": {},
     "output_type": "execute_result"
    }
   ],
   "source": [
    "x"
   ]
  },
  {
   "cell_type": "code",
   "execution_count": 42,
   "id": "004a4ed1",
   "metadata": {},
   "outputs": [
    {
     "data": {
      "text/plain": [
       "array([[0, 1, 2],\n",
       "       [3, 4, 5],\n",
       "       [6, 7, 8]])"
      ]
     },
     "execution_count": 42,
     "metadata": {},
     "output_type": "execute_result"
    }
   ],
   "source": [
    "np.arange(0,9).reshape((3,3))"
   ]
  },
  {
   "cell_type": "markdown",
   "id": "97e1f510",
   "metadata": {},
   "source": [
    "### 7.concadinate a and b"
   ]
  },
  {
   "cell_type": "code",
   "execution_count": 44,
   "id": "53c3d689",
   "metadata": {},
   "outputs": [],
   "source": [
    "import numpy as np"
   ]
  },
  {
   "cell_type": "code",
   "execution_count": 49,
   "id": "28fd0c31",
   "metadata": {},
   "outputs": [
    {
     "name": "stdout",
     "output_type": "stream",
     "text": [
      "[5]\n",
      "[5, 7]\n",
      "[5, 7, 9]\n"
     ]
    }
   ],
   "source": [
    "a=np.array([1,2,3])\n",
    "b=np.array([4,5,6])\n",
    "resultlist=[]\n",
    "for i,j in zip(a,b):\n",
    "    resultlist.append(i+j)\n",
    "    print(resultlist)"
   ]
  },
  {
   "cell_type": "code",
   "execution_count": 50,
   "id": "c51eb31d",
   "metadata": {},
   "outputs": [
    {
     "data": {
      "text/plain": [
       "array([1, 2, 3, 4, 5, 6])"
      ]
     },
     "execution_count": 50,
     "metadata": {},
     "output_type": "execute_result"
    }
   ],
   "source": [
    "import numpy as np  \n",
    "x=np.array([[1,2,3]]) \n",
    "y=np.array([[4,5,6]])  \n",
    "z=np.concatenate((x,y), axis=None)  \n",
    "z  "
   ]
  },
  {
   "cell_type": "code",
   "execution_count": 51,
   "id": "2be5f631",
   "metadata": {},
   "outputs": [
    {
     "data": {
      "text/plain": [
       "1"
      ]
     },
     "execution_count": 51,
     "metadata": {},
     "output_type": "execute_result"
    }
   ],
   "source": [
    "z.ndim"
   ]
  },
  {
   "cell_type": "markdown",
   "id": "c23b6f76",
   "metadata": {},
   "source": [
    "### 8. create data form 3 rows and 2 columns "
   ]
  },
  {
   "cell_type": "code",
   "execution_count": 52,
   "id": "a510c639",
   "metadata": {},
   "outputs": [],
   "source": [
    "import pandas as pd"
   ]
  },
  {
   "cell_type": "code",
   "execution_count": 53,
   "id": "113d3716",
   "metadata": {},
   "outputs": [],
   "source": [
    "data={'Name':['Afsal','Krish','Hari','Kevin'],'Age':[21,20,22,23],'Address':['Dharmapuri','Banglore','Pommudi','Salem'],'Qualification':['BE','Tech','Software','Enginner']}\n"
   ]
  },
  {
   "cell_type": "code",
   "execution_count": 54,
   "id": "4aa4ef4f",
   "metadata": {},
   "outputs": [],
   "source": [
    "df=pd.DataFrame(data)"
   ]
  },
  {
   "cell_type": "code",
   "execution_count": 57,
   "id": "fdb503be",
   "metadata": {},
   "outputs": [
    {
     "data": {
      "text/html": [
       "<div>\n",
       "<style scoped>\n",
       "    .dataframe tbody tr th:only-of-type {\n",
       "        vertical-align: middle;\n",
       "    }\n",
       "\n",
       "    .dataframe tbody tr th {\n",
       "        vertical-align: top;\n",
       "    }\n",
       "\n",
       "    .dataframe thead th {\n",
       "        text-align: right;\n",
       "    }\n",
       "</style>\n",
       "<table border=\"1\" class=\"dataframe\">\n",
       "  <thead>\n",
       "    <tr style=\"text-align: right;\">\n",
       "      <th></th>\n",
       "      <th>Name</th>\n",
       "      <th>Qualification</th>\n",
       "    </tr>\n",
       "  </thead>\n",
       "  <tbody>\n",
       "    <tr>\n",
       "      <th>0</th>\n",
       "      <td>Afsal</td>\n",
       "      <td>BE</td>\n",
       "    </tr>\n",
       "    <tr>\n",
       "      <th>1</th>\n",
       "      <td>Krish</td>\n",
       "      <td>Tech</td>\n",
       "    </tr>\n",
       "    <tr>\n",
       "      <th>2</th>\n",
       "      <td>Hari</td>\n",
       "      <td>Software</td>\n",
       "    </tr>\n",
       "    <tr>\n",
       "      <th>3</th>\n",
       "      <td>Kevin</td>\n",
       "      <td>Enginner</td>\n",
       "    </tr>\n",
       "  </tbody>\n",
       "</table>\n",
       "</div>"
      ],
      "text/plain": [
       "    Name Qualification\n",
       "0  Afsal            BE\n",
       "1  Krish          Tech\n",
       "2   Hari      Software\n",
       "3  Kevin      Enginner"
      ]
     },
     "execution_count": 57,
     "metadata": {},
     "output_type": "execute_result"
    }
   ],
   "source": [
    "df.loc[0:3,['Name','Qualification']]"
   ]
  },
  {
   "cell_type": "code",
   "execution_count": 59,
   "id": "f1245690",
   "metadata": {},
   "outputs": [
    {
     "data": {
      "text/html": [
       "<div>\n",
       "<style scoped>\n",
       "    .dataframe tbody tr th:only-of-type {\n",
       "        vertical-align: middle;\n",
       "    }\n",
       "\n",
       "    .dataframe tbody tr th {\n",
       "        vertical-align: top;\n",
       "    }\n",
       "\n",
       "    .dataframe thead th {\n",
       "        text-align: right;\n",
       "    }\n",
       "</style>\n",
       "<table border=\"1\" class=\"dataframe\">\n",
       "  <thead>\n",
       "    <tr style=\"text-align: right;\">\n",
       "      <th></th>\n",
       "      <th>Name</th>\n",
       "      <th>Qualification</th>\n",
       "      <th>Age</th>\n",
       "      <th>Address</th>\n",
       "    </tr>\n",
       "  </thead>\n",
       "  <tbody>\n",
       "    <tr>\n",
       "      <th>0</th>\n",
       "      <td>Afsal</td>\n",
       "      <td>BE</td>\n",
       "      <td>21</td>\n",
       "      <td>Dharmapuri</td>\n",
       "    </tr>\n",
       "    <tr>\n",
       "      <th>1</th>\n",
       "      <td>Krish</td>\n",
       "      <td>Tech</td>\n",
       "      <td>20</td>\n",
       "      <td>Banglore</td>\n",
       "    </tr>\n",
       "    <tr>\n",
       "      <th>2</th>\n",
       "      <td>Hari</td>\n",
       "      <td>Software</td>\n",
       "      <td>22</td>\n",
       "      <td>Pommudi</td>\n",
       "    </tr>\n",
       "    <tr>\n",
       "      <th>3</th>\n",
       "      <td>Kevin</td>\n",
       "      <td>Enginner</td>\n",
       "      <td>23</td>\n",
       "      <td>Salem</td>\n",
       "    </tr>\n",
       "  </tbody>\n",
       "</table>\n",
       "</div>"
      ],
      "text/plain": [
       "    Name Qualification  Age     Address\n",
       "0  Afsal            BE   21  Dharmapuri\n",
       "1  Krish          Tech   20    Banglore\n",
       "2   Hari      Software   22     Pommudi\n",
       "3  Kevin      Enginner   23       Salem"
      ]
     },
     "execution_count": 59,
     "metadata": {},
     "output_type": "execute_result"
    }
   ],
   "source": [
    "df.loc[0:3,['Name','Qualification','Age','Address']]"
   ]
  },
  {
   "cell_type": "markdown",
   "id": "a0af57b2",
   "metadata": {},
   "source": [
    "### 9. series  data form 1 st jan 2023 and 10 th Feb 2023"
   ]
  },
  {
   "cell_type": "code",
   "execution_count": 63,
   "id": "998a4b5b",
   "metadata": {},
   "outputs": [],
   "source": []
  },
  {
   "cell_type": "code",
   "execution_count": 61,
   "id": "ccaea964",
   "metadata": {},
   "outputs": [],
   "source": []
  },
  {
   "cell_type": "code",
   "execution_count": 80,
   "id": "487be2b4",
   "metadata": {},
   "outputs": [
    {
     "name": "stdout",
     "output_type": "stream",
     "text": [
      "Index(['10-02-2023', '11-02-2023', '12-02-2023', '13-02-2023', '14-02-2023',\n",
      "       '15-02-2023', '16-02-2023', '17-02-2023', '18-02-2023', '19-02-2023',\n",
      "       '20-02-2023', '21-02-2023', '22-02-2023', '23-02-2023', '24-02-2023',\n",
      "       '25-02-2023', '26-02-2023', '27-02-2023', '28-02-2023', '01-03-2023',\n",
      "       '02-03-2023', '03-03-2023', '04-03-2023', '05-03-2023', '06-03-2023',\n",
      "       '07-03-2023', '08-03-2023', '09-03-2023', '10-03-2023', '11-03-2023'],\n",
      "      dtype='object')\n",
      "Index(['10-02-2023', '11-02-2023', '12-02-2023', '13-02-2023', '14-02-2023',\n",
      "       '15-02-2023', '16-02-2023', '17-02-2023', '18-02-2023', '19-02-2023',\n",
      "       '20-02-2023', '21-02-2023', '22-02-2023', '23-02-2023', '24-02-2023',\n",
      "       '25-02-2023', '26-02-2023', '27-02-2023', '28-02-2023', '01-03-2023',\n",
      "       '02-03-2023', '03-03-2023', '04-03-2023', '05-03-2023', '06-03-2023',\n",
      "       '07-03-2023', '08-03-2023', '09-03-2023', '10-03-2023', '11-03-2023'],\n",
      "      dtype='object')\n"
     ]
    },
    {
     "data": {
      "text/plain": [
       "array(['%', 'd', '-', '%', 'm', '-', '%', 'Y'], dtype='<U1')"
      ]
     },
     "execution_count": 80,
     "metadata": {},
     "output_type": "execute_result"
    }
   ],
   "source": [
    "import numpy as np \n",
    "import datetime\n",
    "import pandas as pd\n",
    "test_date = datetime.datetime.strptime(\"01-1-2023\", \"%d-%m-%Y\")\n",
    "test_date = datetime.datetime.strptime(\"10-2-2023\", \"%d-%m-%Y\")\n",
    "K = 31\n",
    "L = 30\n",
    "date_generated = pd.date_range(test_date, periods=K)\n",
    "date_generated = pd.date_range(test_date, periods=L)\n",
    "print(date_generated.strftime(\"%d-%m-%Y\"))\n",
    "print(date_generated.strftime(\"%d-%m-%Y\"))\n",
    "np.concatenate((\"%d-%m-%Y\"), axis=None) "
   ]
  },
  {
   "cell_type": "code",
   "execution_count": 76,
   "id": "46daa7e9",
   "metadata": {},
   "outputs": [
    {
     "data": {
      "text/plain": [
       "array([31, 30])"
      ]
     },
     "execution_count": 76,
     "metadata": {},
     "output_type": "execute_result"
    }
   ],
   "source": [
    "np.concatenate((K,L), axis=None) "
   ]
  },
  {
   "cell_type": "markdown",
   "id": "c8d87e2b",
   "metadata": {},
   "source": [
    "### 10. create 2D list Data Frame"
   ]
  },
  {
   "cell_type": "code",
   "execution_count": 87,
   "id": "8dbb39e3",
   "metadata": {},
   "outputs": [
    {
     "name": "stdout",
     "output_type": "stream",
     "text": [
      "   RollNo Name  Age\n",
      "0       1  aaa   22\n",
      "1       2  bbb   25\n",
      "2       3  ccc   24\n"
     ]
    }
   ],
   "source": [
    "import pandas as pd  \n",
    "a=[[1,'aaa',22],[2,'bbb',25],[3,'ccc',24]]\n",
    "df = pd.DataFrame(a, columns =['RollNo', 'Name', 'Age'],\n",
    "                                           dtype = int) \n",
    "print(df)   "
   ]
  },
  {
   "cell_type": "code",
   "execution_count": 85,
   "id": "d95a9683",
   "metadata": {},
   "outputs": [],
   "source": [
    "import warnings\n",
    "warnings.filterwarnings(\"ignore\")"
   ]
  },
  {
   "cell_type": "code",
   "execution_count": 86,
   "id": "292a5799",
   "metadata": {},
   "outputs": [
    {
     "name": "stdout",
     "output_type": "stream",
     "text": [
      "   RollNo Name   Age\n",
      "0     1.0  aaa  22.0\n",
      "1     2.0  bbb  25.0\n",
      "2     3.0  ccc  24.0\n"
     ]
    }
   ],
   "source": [
    "print(df) "
   ]
  },
  {
   "cell_type": "code",
   "execution_count": null,
   "id": "c34981bd",
   "metadata": {},
   "outputs": [],
   "source": []
  }
 ],
 "metadata": {
  "kernelspec": {
   "display_name": "Python 3 (ipykernel)",
   "language": "python",
   "name": "python3"
  },
  "language_info": {
   "codemirror_mode": {
    "name": "ipython",
    "version": 3
   },
   "file_extension": ".py",
   "mimetype": "text/x-python",
   "name": "python",
   "nbconvert_exporter": "python",
   "pygments_lexer": "ipython3",
   "version": "3.9.12"
  }
 },
 "nbformat": 4,
 "nbformat_minor": 5
}
